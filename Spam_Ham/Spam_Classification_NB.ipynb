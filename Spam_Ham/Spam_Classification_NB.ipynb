{
 "cells": [
  {
   "cell_type": "code",
   "execution_count": null,
   "id": "23995cd0",
   "metadata": {
    "id": "tdGQyNVNnjdZ"
   },
   "outputs": [],
   "source": [
    "import pandas as pd\n",
    "from sklearn.naive_bayes import BernoulliNB\n",
    "from sklearn.model_selection import train_test_split\n",
    "from sklearn.metrics import accuracy_score, classification_report, confusion_matrix\n",
    "from sklearn.feature_extraction.text import TfidfVectorizer"
   ]
  },
  {
   "cell_type": "code",
   "execution_count": null,
   "id": "91d22b78",
   "metadata": {
    "id": "FkY2c3f-njdb",
    "outputId": "83e724f8-a28b-4c83-f4b9-e4f5aed7a1bc"
   },
   "outputs": [
    {
     "data": {
      "text/html": [
       "<div>\n",
       "<style scoped>\n",
       "    .dataframe tbody tr th:only-of-type {\n",
       "        vertical-align: middle;\n",
       "    }\n",
       "\n",
       "    .dataframe tbody tr th {\n",
       "        vertical-align: top;\n",
       "    }\n",
       "\n",
       "    .dataframe thead th {\n",
       "        text-align: right;\n",
       "    }\n",
       "</style>\n",
       "<table border=\"1\" class=\"dataframe\">\n",
       "  <thead>\n",
       "    <tr style=\"text-align: right;\">\n",
       "      <th></th>\n",
       "      <th>type</th>\n",
       "      <th>email</th>\n",
       "    </tr>\n",
       "  </thead>\n",
       "  <tbody>\n",
       "    <tr>\n",
       "      <th>0</th>\n",
       "      <td>ham</td>\n",
       "      <td>Go until jurong point, crazy.. Available only ...</td>\n",
       "    </tr>\n",
       "    <tr>\n",
       "      <th>1</th>\n",
       "      <td>ham</td>\n",
       "      <td>Ok lar... Joking wif u oni...</td>\n",
       "    </tr>\n",
       "    <tr>\n",
       "      <th>2</th>\n",
       "      <td>spam</td>\n",
       "      <td>Free entry in 2 a wkly comp to win FA Cup fina...</td>\n",
       "    </tr>\n",
       "    <tr>\n",
       "      <th>3</th>\n",
       "      <td>ham</td>\n",
       "      <td>U dun say so early hor... U c already then say...</td>\n",
       "    </tr>\n",
       "    <tr>\n",
       "      <th>4</th>\n",
       "      <td>ham</td>\n",
       "      <td>Nah I don't think he goes to usf, he lives aro...</td>\n",
       "    </tr>\n",
       "  </tbody>\n",
       "</table>\n",
       "</div>"
      ],
      "text/plain": [
       "   type                                              email\n",
       "0   ham  Go until jurong point, crazy.. Available only ...\n",
       "1   ham                      Ok lar... Joking wif u oni...\n",
       "2  spam  Free entry in 2 a wkly comp to win FA Cup fina...\n",
       "3   ham  U dun say so early hor... U c already then say...\n",
       "4   ham  Nah I don't think he goes to usf, he lives aro..."
      ]
     },
     "execution_count": 2,
     "metadata": {},
     "output_type": "execute_result"
    }
   ],
   "source": [
    "# Encoding Technique can translate any Unicode character to a matching unique binary\n",
    "data = pd.read_csv('spamham.csv',encoding='latin-1')\n",
    "data.head()"
   ]
  },
  {
   "cell_type": "code",
   "execution_count": null,
   "id": "33827229",
   "metadata": {
    "id": "BxijRcctnjdc",
    "outputId": "4cf26b98-1267-4f2f-ff15-d742595d7b3c"
   },
   "outputs": [
    {
     "name": "stdout",
     "output_type": "stream",
     "text": [
      "<class 'pandas.core.frame.DataFrame'>\n",
      "RangeIndex: 5572 entries, 0 to 5571\n",
      "Data columns (total 2 columns):\n",
      " #   Column  Non-Null Count  Dtype \n",
      "---  ------  --------------  ----- \n",
      " 0   type    5572 non-null   object\n",
      " 1   email   5572 non-null   object\n",
      "dtypes: object(2)\n",
      "memory usage: 87.2+ KB\n"
     ]
    }
   ],
   "source": [
    "data.info()"
   ]
  },
  {
   "cell_type": "code",
   "execution_count": null,
   "id": "76918b13",
   "metadata": {
    "id": "Qb7vLVRanjdc",
    "outputId": "460eae96-6a45-4666-be51-cb568c0f8133"
   },
   "outputs": [
    {
     "data": {
      "text/plain": [
       "(5572, 2)"
      ]
     },
     "execution_count": 4,
     "metadata": {},
     "output_type": "execute_result"
    }
   ],
   "source": [
    "data.shape"
   ]
  },
  {
   "cell_type": "code",
   "execution_count": null,
   "id": "d4bdd867",
   "metadata": {
    "id": "BvWiI6gXnjdd"
   },
   "outputs": [],
   "source": [
    "X = data.email"
   ]
  },
  {
   "cell_type": "code",
   "execution_count": null,
   "id": "1243462e",
   "metadata": {
    "id": "uLE5QUBlnjdd"
   },
   "outputs": [],
   "source": [
    "y = data.type"
   ]
  },
  {
   "cell_type": "code",
   "execution_count": null,
   "id": "61713fbc",
   "metadata": {
    "id": "tBogvsnRnjdd"
   },
   "outputs": [],
   "source": [
    "vect = TfidfVectorizer()# Convert a collection of raw documents to a matrix of TF-IDF features\n",
    "x = vect.fit_transform(X) # training n transform\n",
    "feature_name = vect.get_feature_names()#Array mapping from feature integer indices to feature name\n"
   ]
  },
  {
   "cell_type": "code",
   "execution_count": null,
   "id": "3056b044",
   "metadata": {
    "id": "sPBw30zxnjdd",
    "outputId": "79341980-8156-4a29-a500-c988ccdd52f8"
   },
   "outputs": [
    {
     "data": {
      "text/plain": [
       "['chez',\n",
       " 'chg',\n",
       " 'chgs',\n",
       " 'chic',\n",
       " 'chick',\n",
       " 'chicken',\n",
       " 'chickened',\n",
       " 'chief',\n",
       " 'chik',\n",
       " 'chikku']"
      ]
     },
     "execution_count": 9,
     "metadata": {},
     "output_type": "execute_result"
    }
   ],
   "source": [
    "feature_name[2000:2010]"
   ]
  },
  {
   "cell_type": "code",
   "execution_count": null,
   "id": "5a26afed",
   "metadata": {
    "id": "zo-Wm9YLnjde",
    "outputId": "cc563cc2-efc2-43d4-f438-1f30b586e2b4"
   },
   "outputs": [
    {
     "data": {
      "text/plain": [
       "8672"
      ]
     },
     "execution_count": 8,
     "metadata": {},
     "output_type": "execute_result"
    }
   ],
   "source": [
    "len(feature_name)"
   ]
  },
  {
   "cell_type": "code",
   "execution_count": null,
   "id": "7b536f09",
   "metadata": {
    "id": "-wkpn3vonjde",
    "outputId": "9158f007-7cf7-48ba-a839-019f317c9556"
   },
   "outputs": [
    {
     "data": {
      "text/plain": [
       "<5572x8672 sparse matrix of type '<class 'numpy.float64'>'\n",
       "\twith 73916 stored elements in Compressed Sparse Row format>"
      ]
     },
     "execution_count": 9,
     "metadata": {},
     "output_type": "execute_result"
    }
   ],
   "source": [
    "x"
   ]
  },
  {
   "cell_type": "code",
   "execution_count": null,
   "id": "ebf75e63",
   "metadata": {
    "id": "xqZUpRknnjde",
    "outputId": "9f59cfd9-37b7-4a01-bf27-6ddc2ddac5de"
   },
   "outputs": [
    {
     "data": {
      "text/plain": [
       "array([[0., 0., 0., ..., 0., 0., 0.],\n",
       "       [0., 0., 0., ..., 0., 0., 0.],\n",
       "       [0., 0., 0., ..., 0., 0., 0.],\n",
       "       ...,\n",
       "       [0., 0., 0., ..., 0., 0., 0.],\n",
       "       [0., 0., 0., ..., 0., 0., 0.],\n",
       "       [0., 0., 0., ..., 0., 0., 0.]])"
      ]
     },
     "execution_count": 10,
     "metadata": {},
     "output_type": "execute_result"
    }
   ],
   "source": [
    "x = x.toarray()\n",
    "x"
   ]
  },
  {
   "cell_type": "code",
   "execution_count": null,
   "id": "11f8b397",
   "metadata": {
    "id": "B3pTXMZinjdf"
   },
   "outputs": [],
   "source": [
    "x_train,x_test,y_train,y_test = train_test_split(x,y,test_size=0.2)"
   ]
  },
  {
   "cell_type": "code",
   "execution_count": null,
   "id": "57bac71c",
   "metadata": {
    "id": "QuO7E5ZCnjdf",
    "outputId": "82f0b000-82cf-41d5-a5cf-652161f427bb"
   },
   "outputs": [
    {
     "data": {
      "text/plain": [
       "0.9775784753363229"
      ]
     },
     "execution_count": 12,
     "metadata": {},
     "output_type": "execute_result"
    }
   ],
   "source": [
    "model = BernoulliNB()\n",
    "model.fit(x_train,y_train)\n",
    "y_predict = model.predict(x_test)\n",
    "accuracy_score(y_test,y_predict)"
   ]
  },
  {
   "cell_type": "code",
   "execution_count": null,
   "id": "da3c6d6e",
   "metadata": {
    "id": "D2tlr4Kjnjdf",
    "outputId": "78dbb437-d8c9-4cc8-d981-cd32577d7714"
   },
   "outputs": [
    {
     "data": {
      "text/plain": [
       "0.9885573255553063"
      ]
     },
     "execution_count": 13,
     "metadata": {},
     "output_type": "execute_result"
    }
   ],
   "source": [
    "model.score(x_train,y_train) # training score"
   ]
  },
  {
   "cell_type": "code",
   "execution_count": null,
   "id": "e472102d",
   "metadata": {
    "id": "9LRm_MVKnjdg",
    "outputId": "b02b2c77-45a1-452d-9863-64aba70e95e4"
   },
   "outputs": [
    {
     "data": {
      "text/plain": [
       "0.9775784753363229"
      ]
     },
     "execution_count": 14,
     "metadata": {},
     "output_type": "execute_result"
    }
   ],
   "source": [
    "model.score(x_test,y_test) # testing score"
   ]
  },
  {
   "cell_type": "code",
   "execution_count": null,
   "id": "a7f65b0b",
   "metadata": {
    "id": "aMenT1plnjdg",
    "outputId": "7ed88e5f-86e5-45da-8fe3-66db773531ea"
   },
   "outputs": [
    {
     "data": {
      "text/plain": [
       "0    XXX MobileMovieClub: To use your credit, click...\n",
       "dtype: object"
      ]
     },
     "execution_count": 15,
     "metadata": {},
     "output_type": "execute_result"
    }
   ],
   "source": [
    "new_data = pd.Series('XXX MobileMovieClub: To use your credit, click the WAP link in the next txt message or click here>> http://wap. www.fraud.com?n=QJKGIGHJJGCBLMessage us to Bz-10567')\n",
    "new_data"
   ]
  },
  {
   "cell_type": "code",
   "execution_count": null,
   "id": "f8637186",
   "metadata": {
    "id": "Jsl0JMP5njdg",
    "outputId": "45171a3f-1189-4420-bd33-22b5f63695f4"
   },
   "outputs": [
    {
     "data": {
      "text/plain": [
       "<1x8672 sparse matrix of type '<class 'numpy.float64'>'\n",
       "\twith 19 stored elements in Compressed Sparse Row format>"
      ]
     },
     "execution_count": 16,
     "metadata": {},
     "output_type": "execute_result"
    }
   ],
   "source": [
    "new_data = vect.transform(new_data)\n",
    "new_data"
   ]
  },
  {
   "cell_type": "code",
   "execution_count": null,
   "id": "cbfdd11d",
   "metadata": {
    "id": "UFpsSLOrnjdh",
    "outputId": "4f07ae4e-4ff2-4a9b-bc0b-5f52a0dfabd8"
   },
   "outputs": [
    {
     "data": {
      "text/plain": [
       "(1, 8672)"
      ]
     },
     "execution_count": 17,
     "metadata": {},
     "output_type": "execute_result"
    }
   ],
   "source": [
    "new_data.shape"
   ]
  },
  {
   "cell_type": "code",
   "execution_count": null,
   "id": "1145e6d5",
   "metadata": {
    "id": "QKexooB6njdh",
    "outputId": "141e5eb0-96fe-42a9-beff-49c4ddaf65ce"
   },
   "outputs": [
    {
     "data": {
      "text/plain": [
       "array(['spam'], dtype='<U4')"
      ]
     },
     "execution_count": 18,
     "metadata": {},
     "output_type": "execute_result"
    }
   ],
   "source": [
    "model.predict(new_data)"
   ]
  },
  {
   "cell_type": "code",
   "execution_count": null,
   "id": "9b8abbb9",
   "metadata": {},
   "outputs": [],
   "source": []
  }
 ],
 "metadata": {
  "kernelspec": {
   "display_name": "Python 3 (ipykernel)",
   "language": "python",
   "name": "python3"
  },
  "language_info": {
   "codemirror_mode": {
    "name": "ipython",
    "version": 3
   },
   "file_extension": ".py",
   "mimetype": "text/x-python",
   "name": "python",
   "nbconvert_exporter": "python",
   "pygments_lexer": "ipython3",
   "version": "3.9.7"
  }
 },
 "nbformat": 4,
 "nbformat_minor": 5
}
